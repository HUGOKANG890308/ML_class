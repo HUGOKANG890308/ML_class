{
 "cells": [
  {
   "cell_type": "markdown",
   "id": "7a0c62c5",
   "metadata": {},
   "source": [
    "import lib"
   ]
  },
  {
   "cell_type": "code",
   "execution_count": 1,
   "id": "c16e8bd7",
   "metadata": {},
   "outputs": [],
   "source": [
    "import sklearn\n",
    "import numpy as np\n",
    "import pandas as pd\n",
    "from sklearn.model_selection import train_test_split\n",
    "#from mlxtend.feature_selection import SequentialFeatureSelector as SFS\n",
    "#from mlxtend.feature_selection import ExhaustiveFeatureSelector as EFS\n",
    "\n",
    "from sklearn.svm import SVC\n",
    "from sklearn.tree import DecisionTreeClassifier\n",
    "from sklearn.linear_model import LogisticRegression\n",
    "from sklearn.ensemble import RandomForestClassifier\n",
    "from sklearn.pipeline import Pipeline\n",
    "#import xgboost as xgb\n",
    "#import lightgbm as lgb\n",
    "\n",
    "from sklearn.preprocessing import StandardScaler\n",
    "\n",
    "from sklearn.decomposition import PCA\n",
    "from sklearn.discriminant_analysis import LinearDiscriminantAnalysis as LDA\n",
    "\n",
    "from sklearn.model_selection import cross_validate, cross_val_score\n",
    "\n",
    "from sklearn.metrics import f1_score, confusion_matrix, accuracy_score\n",
    "\n",
    "import matplotlib.pyplot as plt\n",
    "from sklearn.model_selection import learning_curve, validation_curve"
   ]
  },
  {
   "cell_type": "code",
   "execution_count": 2,
   "id": "0016106a",
   "metadata": {
    "scrolled": false
   },
   "outputs": [
    {
     "data": {
      "text/html": [
       "<div>\n",
       "<style scoped>\n",
       "    .dataframe tbody tr th:only-of-type {\n",
       "        vertical-align: middle;\n",
       "    }\n",
       "\n",
       "    .dataframe tbody tr th {\n",
       "        vertical-align: top;\n",
       "    }\n",
       "\n",
       "    .dataframe thead th {\n",
       "        text-align: right;\n",
       "    }\n",
       "</style>\n",
       "<table border=\"1\" class=\"dataframe\">\n",
       "  <thead>\n",
       "    <tr style=\"text-align: right;\">\n",
       "      <th></th>\n",
       "      <th>Bankrupt?</th>\n",
       "      <th>ROA(C) before interest and depreciation before interest</th>\n",
       "      <th>ROA(A) before interest and % after tax</th>\n",
       "      <th>ROA(B) before interest and depreciation after tax</th>\n",
       "      <th>Operating Gross Margin</th>\n",
       "      <th>Realized Sales Gross Margin</th>\n",
       "      <th>Operating Profit Rate</th>\n",
       "      <th>Pre-tax net Interest Rate</th>\n",
       "      <th>After-tax net Interest Rate</th>\n",
       "      <th>Non-industry income and expenditure/revenue</th>\n",
       "      <th>...</th>\n",
       "      <th>Net Income to Total Assets</th>\n",
       "      <th>Total assets to GNP price</th>\n",
       "      <th>No-credit Interval</th>\n",
       "      <th>Gross Profit to Sales</th>\n",
       "      <th>Net Income to Stockholder's Equity</th>\n",
       "      <th>Liability to Equity</th>\n",
       "      <th>Degree of Financial Leverage (DFL)</th>\n",
       "      <th>Interest Coverage Ratio (Interest expense to EBIT)</th>\n",
       "      <th>Net Income Flag</th>\n",
       "      <th>Equity to Liability</th>\n",
       "    </tr>\n",
       "  </thead>\n",
       "  <tbody>\n",
       "    <tr>\n",
       "      <th>0</th>\n",
       "      <td>1</td>\n",
       "      <td>0.370594</td>\n",
       "      <td>0.424389</td>\n",
       "      <td>0.405750</td>\n",
       "      <td>0.601457</td>\n",
       "      <td>0.601457</td>\n",
       "      <td>0.998969</td>\n",
       "      <td>0.796887</td>\n",
       "      <td>0.808809</td>\n",
       "      <td>0.302646</td>\n",
       "      <td>...</td>\n",
       "      <td>0.716845</td>\n",
       "      <td>0.009219</td>\n",
       "      <td>0.622879</td>\n",
       "      <td>0.601453</td>\n",
       "      <td>0.827890</td>\n",
       "      <td>0.290202</td>\n",
       "      <td>0.026601</td>\n",
       "      <td>0.564050</td>\n",
       "      <td>1</td>\n",
       "      <td>0.016469</td>\n",
       "    </tr>\n",
       "    <tr>\n",
       "      <th>1</th>\n",
       "      <td>1</td>\n",
       "      <td>0.464291</td>\n",
       "      <td>0.538214</td>\n",
       "      <td>0.516730</td>\n",
       "      <td>0.610235</td>\n",
       "      <td>0.610235</td>\n",
       "      <td>0.998946</td>\n",
       "      <td>0.797380</td>\n",
       "      <td>0.809301</td>\n",
       "      <td>0.303556</td>\n",
       "      <td>...</td>\n",
       "      <td>0.795297</td>\n",
       "      <td>0.008323</td>\n",
       "      <td>0.623652</td>\n",
       "      <td>0.610237</td>\n",
       "      <td>0.839969</td>\n",
       "      <td>0.283846</td>\n",
       "      <td>0.264577</td>\n",
       "      <td>0.570175</td>\n",
       "      <td>1</td>\n",
       "      <td>0.020794</td>\n",
       "    </tr>\n",
       "    <tr>\n",
       "      <th>2</th>\n",
       "      <td>1</td>\n",
       "      <td>0.426071</td>\n",
       "      <td>0.499019</td>\n",
       "      <td>0.472295</td>\n",
       "      <td>0.601450</td>\n",
       "      <td>0.601364</td>\n",
       "      <td>0.998857</td>\n",
       "      <td>0.796403</td>\n",
       "      <td>0.808388</td>\n",
       "      <td>0.302035</td>\n",
       "      <td>...</td>\n",
       "      <td>0.774670</td>\n",
       "      <td>0.040003</td>\n",
       "      <td>0.623841</td>\n",
       "      <td>0.601449</td>\n",
       "      <td>0.836774</td>\n",
       "      <td>0.290189</td>\n",
       "      <td>0.026555</td>\n",
       "      <td>0.563706</td>\n",
       "      <td>1</td>\n",
       "      <td>0.016474</td>\n",
       "    </tr>\n",
       "    <tr>\n",
       "      <th>3</th>\n",
       "      <td>1</td>\n",
       "      <td>0.399844</td>\n",
       "      <td>0.451265</td>\n",
       "      <td>0.457733</td>\n",
       "      <td>0.583541</td>\n",
       "      <td>0.583541</td>\n",
       "      <td>0.998700</td>\n",
       "      <td>0.796967</td>\n",
       "      <td>0.808966</td>\n",
       "      <td>0.303350</td>\n",
       "      <td>...</td>\n",
       "      <td>0.739555</td>\n",
       "      <td>0.003252</td>\n",
       "      <td>0.622929</td>\n",
       "      <td>0.583538</td>\n",
       "      <td>0.834697</td>\n",
       "      <td>0.281721</td>\n",
       "      <td>0.026697</td>\n",
       "      <td>0.564663</td>\n",
       "      <td>1</td>\n",
       "      <td>0.023982</td>\n",
       "    </tr>\n",
       "    <tr>\n",
       "      <th>4</th>\n",
       "      <td>1</td>\n",
       "      <td>0.465022</td>\n",
       "      <td>0.538432</td>\n",
       "      <td>0.522298</td>\n",
       "      <td>0.598783</td>\n",
       "      <td>0.598783</td>\n",
       "      <td>0.998973</td>\n",
       "      <td>0.797366</td>\n",
       "      <td>0.809304</td>\n",
       "      <td>0.303475</td>\n",
       "      <td>...</td>\n",
       "      <td>0.795016</td>\n",
       "      <td>0.003878</td>\n",
       "      <td>0.623521</td>\n",
       "      <td>0.598782</td>\n",
       "      <td>0.839973</td>\n",
       "      <td>0.278514</td>\n",
       "      <td>0.024752</td>\n",
       "      <td>0.575617</td>\n",
       "      <td>1</td>\n",
       "      <td>0.035490</td>\n",
       "    </tr>\n",
       "  </tbody>\n",
       "</table>\n",
       "<p>5 rows × 96 columns</p>\n",
       "</div>"
      ],
      "text/plain": [
       "   Bankrupt?   ROA(C) before interest and depreciation before interest  \\\n",
       "0          1                                           0.370594          \n",
       "1          1                                           0.464291          \n",
       "2          1                                           0.426071          \n",
       "3          1                                           0.399844          \n",
       "4          1                                           0.465022          \n",
       "\n",
       "    ROA(A) before interest and % after tax  \\\n",
       "0                                 0.424389   \n",
       "1                                 0.538214   \n",
       "2                                 0.499019   \n",
       "3                                 0.451265   \n",
       "4                                 0.538432   \n",
       "\n",
       "    ROA(B) before interest and depreciation after tax  \\\n",
       "0                                           0.405750    \n",
       "1                                           0.516730    \n",
       "2                                           0.472295    \n",
       "3                                           0.457733    \n",
       "4                                           0.522298    \n",
       "\n",
       "    Operating Gross Margin   Realized Sales Gross Margin  \\\n",
       "0                 0.601457                      0.601457   \n",
       "1                 0.610235                      0.610235   \n",
       "2                 0.601450                      0.601364   \n",
       "3                 0.583541                      0.583541   \n",
       "4                 0.598783                      0.598783   \n",
       "\n",
       "    Operating Profit Rate   Pre-tax net Interest Rate  \\\n",
       "0                0.998969                    0.796887   \n",
       "1                0.998946                    0.797380   \n",
       "2                0.998857                    0.796403   \n",
       "3                0.998700                    0.796967   \n",
       "4                0.998973                    0.797366   \n",
       "\n",
       "    After-tax net Interest Rate   Non-industry income and expenditure/revenue  \\\n",
       "0                      0.808809                                      0.302646   \n",
       "1                      0.809301                                      0.303556   \n",
       "2                      0.808388                                      0.302035   \n",
       "3                      0.808966                                      0.303350   \n",
       "4                      0.809304                                      0.303475   \n",
       "\n",
       "   ...   Net Income to Total Assets   Total assets to GNP price  \\\n",
       "0  ...                     0.716845                    0.009219   \n",
       "1  ...                     0.795297                    0.008323   \n",
       "2  ...                     0.774670                    0.040003   \n",
       "3  ...                     0.739555                    0.003252   \n",
       "4  ...                     0.795016                    0.003878   \n",
       "\n",
       "    No-credit Interval   Gross Profit to Sales  \\\n",
       "0             0.622879                0.601453   \n",
       "1             0.623652                0.610237   \n",
       "2             0.623841                0.601449   \n",
       "3             0.622929                0.583538   \n",
       "4             0.623521                0.598782   \n",
       "\n",
       "    Net Income to Stockholder's Equity   Liability to Equity  \\\n",
       "0                             0.827890              0.290202   \n",
       "1                             0.839969              0.283846   \n",
       "2                             0.836774              0.290189   \n",
       "3                             0.834697              0.281721   \n",
       "4                             0.839973              0.278514   \n",
       "\n",
       "    Degree of Financial Leverage (DFL)  \\\n",
       "0                             0.026601   \n",
       "1                             0.264577   \n",
       "2                             0.026555   \n",
       "3                             0.026697   \n",
       "4                             0.024752   \n",
       "\n",
       "    Interest Coverage Ratio (Interest expense to EBIT)   Net Income Flag  \\\n",
       "0                                           0.564050                   1   \n",
       "1                                           0.570175                   1   \n",
       "2                                           0.563706                   1   \n",
       "3                                           0.564663                   1   \n",
       "4                                           0.575617                   1   \n",
       "\n",
       "    Equity to Liability  \n",
       "0              0.016469  \n",
       "1              0.020794  \n",
       "2              0.016474  \n",
       "3              0.023982  \n",
       "4              0.035490  \n",
       "\n",
       "[5 rows x 96 columns]"
      ]
     },
     "execution_count": 2,
     "metadata": {},
     "output_type": "execute_result"
    }
   ],
   "source": [
    "df = pd.read_csv('data.csv (1).zip')\n",
    "df.head()"
   ]
  },
  {
   "cell_type": "code",
   "execution_count": 3,
   "id": "5194ad61",
   "metadata": {},
   "outputs": [
    {
     "name": "stdout",
     "output_type": "stream",
     "text": [
      "<class 'pandas.core.frame.DataFrame'>\n",
      "RangeIndex: 6819 entries, 0 to 6818\n",
      "Data columns (total 96 columns):\n",
      " #   Column                                                    Non-Null Count  Dtype  \n",
      "---  ------                                                    --------------  -----  \n",
      " 0   Bankrupt?                                                 6819 non-null   int64  \n",
      " 1    ROA(C) before interest and depreciation before interest  6819 non-null   float64\n",
      " 2    ROA(A) before interest and % after tax                   6819 non-null   float64\n",
      " 3    ROA(B) before interest and depreciation after tax        6819 non-null   float64\n",
      " 4    Operating Gross Margin                                   6819 non-null   float64\n",
      " 5    Realized Sales Gross Margin                              6819 non-null   float64\n",
      " 6    Operating Profit Rate                                    6819 non-null   float64\n",
      " 7    Pre-tax net Interest Rate                                6819 non-null   float64\n",
      " 8    After-tax net Interest Rate                              6819 non-null   float64\n",
      " 9    Non-industry income and expenditure/revenue              6819 non-null   float64\n",
      " 10   Continuous interest rate (after tax)                     6819 non-null   float64\n",
      " 11   Operating Expense Rate                                   6819 non-null   float64\n",
      " 12   Research and development expense rate                    6819 non-null   float64\n",
      " 13   Cash flow rate                                           6819 non-null   float64\n",
      " 14   Interest-bearing debt interest rate                      6819 non-null   float64\n",
      " 15   Tax rate (A)                                             6819 non-null   float64\n",
      " 16   Net Value Per Share (B)                                  6819 non-null   float64\n",
      " 17   Net Value Per Share (A)                                  6819 non-null   float64\n",
      " 18   Net Value Per Share (C)                                  6819 non-null   float64\n",
      " 19   Persistent EPS in the Last Four Seasons                  6819 non-null   float64\n",
      " 20   Cash Flow Per Share                                      6819 non-null   float64\n",
      " 21   Revenue Per Share (Yuan ¥)                               6819 non-null   float64\n",
      " 22   Operating Profit Per Share (Yuan ¥)                      6819 non-null   float64\n",
      " 23   Per Share Net profit before tax (Yuan ¥)                 6819 non-null   float64\n",
      " 24   Realized Sales Gross Profit Growth Rate                  6819 non-null   float64\n",
      " 25   Operating Profit Growth Rate                             6819 non-null   float64\n",
      " 26   After-tax Net Profit Growth Rate                         6819 non-null   float64\n",
      " 27   Regular Net Profit Growth Rate                           6819 non-null   float64\n",
      " 28   Continuous Net Profit Growth Rate                        6819 non-null   float64\n",
      " 29   Total Asset Growth Rate                                  6819 non-null   float64\n",
      " 30   Net Value Growth Rate                                    6819 non-null   float64\n",
      " 31   Total Asset Return Growth Rate Ratio                     6819 non-null   float64\n",
      " 32   Cash Reinvestment %                                      6819 non-null   float64\n",
      " 33   Current Ratio                                            6819 non-null   float64\n",
      " 34   Quick Ratio                                              6819 non-null   float64\n",
      " 35   Interest Expense Ratio                                   6819 non-null   float64\n",
      " 36   Total debt/Total net worth                               6819 non-null   float64\n",
      " 37   Debt ratio %                                             6819 non-null   float64\n",
      " 38   Net worth/Assets                                         6819 non-null   float64\n",
      " 39   Long-term fund suitability ratio (A)                     6819 non-null   float64\n",
      " 40   Borrowing dependency                                     6819 non-null   float64\n",
      " 41   Contingent liabilities/Net worth                         6819 non-null   float64\n",
      " 42   Operating profit/Paid-in capital                         6819 non-null   float64\n",
      " 43   Net profit before tax/Paid-in capital                    6819 non-null   float64\n",
      " 44   Inventory and accounts receivable/Net value              6819 non-null   float64\n",
      " 45   Total Asset Turnover                                     6819 non-null   float64\n",
      " 46   Accounts Receivable Turnover                             6819 non-null   float64\n",
      " 47   Average Collection Days                                  6819 non-null   float64\n",
      " 48   Inventory Turnover Rate (times)                          6819 non-null   float64\n",
      " 49   Fixed Assets Turnover Frequency                          6819 non-null   float64\n",
      " 50   Net Worth Turnover Rate (times)                          6819 non-null   float64\n",
      " 51   Revenue per person                                       6819 non-null   float64\n",
      " 52   Operating profit per person                              6819 non-null   float64\n",
      " 53   Allocation rate per person                               6819 non-null   float64\n",
      " 54   Working Capital to Total Assets                          6819 non-null   float64\n",
      " 55   Quick Assets/Total Assets                                6819 non-null   float64\n",
      " 56   Current Assets/Total Assets                              6819 non-null   float64\n",
      " 57   Cash/Total Assets                                        6819 non-null   float64\n",
      " 58   Quick Assets/Current Liability                           6819 non-null   float64\n",
      " 59   Cash/Current Liability                                   6819 non-null   float64\n",
      " 60   Current Liability to Assets                              6819 non-null   float64\n",
      " 61   Operating Funds to Liability                             6819 non-null   float64\n",
      " 62   Inventory/Working Capital                                6819 non-null   float64\n",
      " 63   Inventory/Current Liability                              6819 non-null   float64\n",
      " 64   Current Liabilities/Liability                            6819 non-null   float64\n",
      " 65   Working Capital/Equity                                   6819 non-null   float64\n",
      " 66   Current Liabilities/Equity                               6819 non-null   float64\n",
      " 67   Long-term Liability to Current Assets                    6819 non-null   float64\n",
      " 68   Retained Earnings to Total Assets                        6819 non-null   float64\n",
      " 69   Total income/Total expense                               6819 non-null   float64\n",
      " 70   Total expense/Assets                                     6819 non-null   float64\n",
      " 71   Current Asset Turnover Rate                              6819 non-null   float64\n",
      " 72   Quick Asset Turnover Rate                                6819 non-null   float64\n",
      " 73   Working capitcal Turnover Rate                           6819 non-null   float64\n",
      " 74   Cash Turnover Rate                                       6819 non-null   float64\n",
      " 75   Cash Flow to Sales                                       6819 non-null   float64\n",
      " 76   Fixed Assets to Assets                                   6819 non-null   float64\n",
      " 77   Current Liability to Liability                           6819 non-null   float64\n",
      " 78   Current Liability to Equity                              6819 non-null   float64\n",
      " 79   Equity to Long-term Liability                            6819 non-null   float64\n",
      " 80   Cash Flow to Total Assets                                6819 non-null   float64\n",
      " 81   Cash Flow to Liability                                   6819 non-null   float64\n",
      " 82   CFO to Assets                                            6819 non-null   float64\n",
      " 83   Cash Flow to Equity                                      6819 non-null   float64\n",
      " 84   Current Liability to Current Assets                      6819 non-null   float64\n",
      " 85   Liability-Assets Flag                                    6819 non-null   int64  \n",
      " 86   Net Income to Total Assets                               6819 non-null   float64\n",
      " 87   Total assets to GNP price                                6819 non-null   float64\n",
      " 88   No-credit Interval                                       6819 non-null   float64\n",
      " 89   Gross Profit to Sales                                    6819 non-null   float64\n",
      " 90   Net Income to Stockholder's Equity                       6819 non-null   float64\n",
      " 91   Liability to Equity                                      6819 non-null   float64\n",
      " 92   Degree of Financial Leverage (DFL)                       6819 non-null   float64\n",
      " 93   Interest Coverage Ratio (Interest expense to EBIT)       6819 non-null   float64\n",
      " 94   Net Income Flag                                          6819 non-null   int64  \n",
      " 95   Equity to Liability                                      6819 non-null   float64\n",
      "dtypes: float64(93), int64(3)\n",
      "memory usage: 5.0 MB\n"
     ]
    }
   ],
   "source": [
    "df.info()"
   ]
  },
  {
   "cell_type": "code",
   "execution_count": 4,
   "id": "73e1c31b",
   "metadata": {
    "scrolled": true
   },
   "outputs": [
    {
     "data": {
      "text/plain": [
       "Bankrupt?                                                   0\n",
       " ROA(C) before interest and depreciation before interest    0\n",
       " ROA(A) before interest and % after tax                     0\n",
       " ROA(B) before interest and depreciation after tax          0\n",
       " Operating Gross Margin                                     0\n",
       "                                                           ..\n",
       " Liability to Equity                                        0\n",
       " Degree of Financial Leverage (DFL)                         0\n",
       " Interest Coverage Ratio (Interest expense to EBIT)         0\n",
       " Net Income Flag                                            0\n",
       " Equity to Liability                                        0\n",
       "Length: 96, dtype: int64"
      ]
     },
     "execution_count": 4,
     "metadata": {},
     "output_type": "execute_result"
    }
   ],
   "source": [
    "df.isnull().sum()"
   ]
  },
  {
   "cell_type": "code",
   "execution_count": 5,
   "id": "17272f1b",
   "metadata": {},
   "outputs": [],
   "source": [
    "X_ = df.drop(['Bankrupt?'], axis=1)\n",
    "y_ = df['Bankrupt?']"
   ]
  },
  {
   "cell_type": "code",
   "execution_count": 6,
   "id": "f433b3d3",
   "metadata": {
    "scrolled": true
   },
   "outputs": [
    {
     "data": {
      "text/plain": [
       "(6819, 95)"
      ]
     },
     "execution_count": 6,
     "metadata": {},
     "output_type": "execute_result"
    }
   ],
   "source": [
    "X_.shape"
   ]
  },
  {
   "cell_type": "code",
   "execution_count": 7,
   "id": "bc7bc0d6",
   "metadata": {
    "scrolled": true
   },
   "outputs": [
    {
     "data": {
      "text/plain": [
       "(6819,)"
      ]
     },
     "execution_count": 7,
     "metadata": {},
     "output_type": "execute_result"
    }
   ],
   "source": [
    "y_.shape"
   ]
  },
  {
   "cell_type": "code",
   "execution_count": 8,
   "id": "ff3c07cb",
   "metadata": {},
   "outputs": [],
   "source": [
    "confusion_matrix?"
   ]
  },
  {
   "cell_type": "markdown",
   "id": "b704ec6e",
   "metadata": {
    "heading_collapsed": true
   },
   "source": [
    "# Feature selection"
   ]
  },
  {
   "cell_type": "markdown",
   "id": "95e6098e",
   "metadata": {
    "heading_collapsed": true,
    "hidden": true
   },
   "source": [
    "##  Tree base"
   ]
  },
  {
   "cell_type": "code",
   "execution_count": 9,
   "id": "7bfbb295",
   "metadata": {
    "hidden": true,
    "scrolled": true
   },
   "outputs": [
    {
     "data": {
      "text/plain": [
       "ExtraTreesClassifier()"
      ]
     },
     "execution_count": 9,
     "metadata": {},
     "output_type": "execute_result"
    }
   ],
   "source": [
    "from sklearn.ensemble import ExtraTreesClassifier\n",
    "\n",
    "etc = ExtraTreesClassifier()\n",
    "etc.fit(X_,y_)"
   ]
  },
  {
   "cell_type": "code",
   "execution_count": 10,
   "id": "9cf8ce9c",
   "metadata": {
    "hidden": true
   },
   "outputs": [
    {
     "data": {
      "text/plain": [
       "array([0.01680301, 0.02028443, 0.01661454, 0.00734857, 0.00860674,\n",
       "       0.00778381, 0.00893891, 0.00998555, 0.0115914 , 0.01064334,\n",
       "       0.00834004, 0.00980819, 0.00822814, 0.01273583, 0.00649484,\n",
       "       0.01199908, 0.01186709, 0.01136724, 0.01521975, 0.00765338,\n",
       "       0.00769515, 0.0088888 , 0.017762  , 0.00928168, 0.00949951,\n",
       "       0.00689805, 0.00666275, 0.00949342, 0.00928251, 0.0105328 ,\n",
       "       0.01040013, 0.00754522, 0.00947522, 0.01019584, 0.01369473,\n",
       "       0.01128962, 0.01539803, 0.01843923, 0.00886227, 0.01867343,\n",
       "       0.00949563, 0.0085516 , 0.01685627, 0.00941841, 0.00762493,\n",
       "       0.00705955, 0.01092235, 0.00788959, 0.01178364, 0.00825306,\n",
       "       0.00979775, 0.0104384 , 0.01147722, 0.0130384 , 0.00919962,\n",
       "       0.00830004, 0.01049433, 0.00950489, 0.01213355, 0.01220185,\n",
       "       0.00820092, 0.00957569, 0.00703097, 0.0080262 , 0.01129522,\n",
       "       0.01317107, 0.00844214, 0.01315938, 0.00799262, 0.00920254,\n",
       "       0.0093632 , 0.0089347 , 0.00853582, 0.00746422, 0.00641779,\n",
       "       0.00926976, 0.00913405, 0.01325077, 0.01226827, 0.00750802,\n",
       "       0.00656295, 0.00794996, 0.00793432, 0.01066883, 0.00519409,\n",
       "       0.02163304, 0.01130583, 0.01096294, 0.00796792, 0.02181498,\n",
       "       0.01375875, 0.01480168, 0.01286785, 0.        , 0.01160815])"
      ]
     },
     "execution_count": 10,
     "metadata": {},
     "output_type": "execute_result"
    }
   ],
   "source": [
    "etc.feature_importances_"
   ]
  },
  {
   "cell_type": "code",
   "execution_count": 11,
   "id": "387ba567",
   "metadata": {
    "hidden": true,
    "scrolled": true
   },
   "outputs": [],
   "source": [
    "imp = pd.DataFrame(columns=['feature', 'important?'])\n",
    "for i in range(len(X_.columns)):\n",
    "    imp.loc[i] = [X_.columns[i],etc.feature_importances_[i]]\n",
    "imp.sort_values('important?',ascending=False , inplace=True)"
   ]
  },
  {
   "cell_type": "code",
   "execution_count": 12,
   "id": "8be1cc35",
   "metadata": {
    "hidden": true
   },
   "outputs": [],
   "source": [
    "X_list = []\n",
    "for i in range(5):\n",
    "    X_list.append(imp.iloc[i,0])"
   ]
  },
  {
   "cell_type": "code",
   "execution_count": 13,
   "id": "f23dacec",
   "metadata": {
    "hidden": true
   },
   "outputs": [
    {
     "data": {
      "text/plain": [
       "[\" Net Income to Stockholder's Equity\",\n",
       " ' Net Income to Total Assets',\n",
       " ' ROA(A) before interest and % after tax',\n",
       " ' Borrowing dependency',\n",
       " ' Net worth/Assets']"
      ]
     },
     "execution_count": 13,
     "metadata": {},
     "output_type": "execute_result"
    }
   ],
   "source": [
    "X_list"
   ]
  },
  {
   "cell_type": "code",
   "execution_count": 14,
   "id": "1242fba9",
   "metadata": {
    "hidden": true
   },
   "outputs": [],
   "source": [
    "X = df[[' Net Income to Total Assets',\n",
    "        \" Net Income to Stockholder's Equity\",\n",
    "        \" ROA(A) before interest and % after tax\",\n",
    "        \" Debt ratio %\",\n",
    "        \" ROA(B) before interest and depreciation after tax\"]]\n",
    "y = df['Bankrupt?']\n",
    "\n",
    "X = np.array(X)\n",
    "y = np.array(y)\n",
    "X_train, X_test, y_train, y_test = train_test_split(X,y, test_size=0.2, random_state=1)"
   ]
  },
  {
   "cell_type": "code",
   "execution_count": 15,
   "id": "847ee94f",
   "metadata": {
    "hidden": true
   },
   "outputs": [
    {
     "data": {
      "text/plain": [
       "(5455, 5)"
      ]
     },
     "execution_count": 15,
     "metadata": {},
     "output_type": "execute_result"
    }
   ],
   "source": [
    "X_train.shape"
   ]
  },
  {
   "cell_type": "code",
   "execution_count": 16,
   "id": "fbc19b80",
   "metadata": {
    "hidden": true
   },
   "outputs": [
    {
     "data": {
      "text/plain": [
       "(5455,)"
      ]
     },
     "execution_count": 16,
     "metadata": {},
     "output_type": "execute_result"
    }
   ],
   "source": [
    "y_train.shape"
   ]
  },
  {
   "cell_type": "code",
   "execution_count": 17,
   "id": "ba8ef55e",
   "metadata": {
    "hidden": true,
    "scrolled": true
   },
   "outputs": [
    {
     "data": {
      "text/plain": [
       "0.07692307692307693"
      ]
     },
     "execution_count": 17,
     "metadata": {},
     "output_type": "execute_result"
    }
   ],
   "source": [
    "svc = SVC(kernel='rbf', C=10)\n",
    "svc.fit(X_train, y_train)\n",
    "pred = svc.predict(X_test)\n",
    "loss = f1_score(pred, y_test)\n",
    "loss"
   ]
  },
  {
   "cell_type": "code",
   "execution_count": 18,
   "id": "8083fe47",
   "metadata": {
    "hidden": true,
    "scrolled": true
   },
   "outputs": [
    {
     "data": {
      "text/plain": [
       "0.9648093841642229"
      ]
     },
     "execution_count": 18,
     "metadata": {},
     "output_type": "execute_result"
    }
   ],
   "source": [
    "accuracy_score(pred, y_test)"
   ]
  },
  {
   "cell_type": "code",
   "execution_count": 19,
   "id": "76357afe",
   "metadata": {
    "hidden": true
   },
   "outputs": [
    {
     "data": {
      "text/plain": [
       "array([[1314,    0],\n",
       "       [  48,    2]])"
      ]
     },
     "execution_count": 19,
     "metadata": {},
     "output_type": "execute_result"
    }
   ],
   "source": [
    "confusion_matrix(y_test, pred)"
   ]
  },
  {
   "cell_type": "markdown",
   "id": "5762350f",
   "metadata": {
    "heading_collapsed": true,
    "hidden": true
   },
   "source": [
    "##  SFS"
   ]
  },
  {
   "cell_type": "code",
   "execution_count": 20,
   "id": "4b3042c6",
   "metadata": {
    "hidden": true
   },
   "outputs": [
    {
     "ename": "NameError",
     "evalue": "name 'SFS' is not defined",
     "output_type": "error",
     "traceback": [
      "\u001b[0;31m---------------------------------------------------------------------------\u001b[0m",
      "\u001b[0;31mNameError\u001b[0m                                 Traceback (most recent call last)",
      "\u001b[0;32m/var/folders/k9/4lm4s_yd2dl9yhpjcj2r47pw0000gn/T/ipykernel_6122/623248304.py\u001b[0m in \u001b[0;36m<module>\u001b[0;34m\u001b[0m\n\u001b[1;32m      1\u001b[0m \u001b[0msvc\u001b[0m \u001b[0;34m=\u001b[0m \u001b[0mSVC\u001b[0m\u001b[0;34m(\u001b[0m\u001b[0mkernel\u001b[0m\u001b[0;34m=\u001b[0m\u001b[0;34m'rbf'\u001b[0m\u001b[0;34m,\u001b[0m \u001b[0mC\u001b[0m\u001b[0;34m=\u001b[0m\u001b[0;36m10\u001b[0m\u001b[0;34m)\u001b[0m\u001b[0;34m\u001b[0m\u001b[0;34m\u001b[0m\u001b[0m\n\u001b[0;32m----> 2\u001b[0;31m \u001b[0msfs\u001b[0m \u001b[0;34m=\u001b[0m \u001b[0mSFS\u001b[0m\u001b[0;34m(\u001b[0m\u001b[0msvc\u001b[0m\u001b[0;34m,\u001b[0m \u001b[0mk_features\u001b[0m\u001b[0;34m=\u001b[0m\u001b[0;36m5\u001b[0m\u001b[0;34m,\u001b[0m \u001b[0mforward\u001b[0m\u001b[0;34m=\u001b[0m\u001b[0;32mTrue\u001b[0m\u001b[0;34m,\u001b[0m \u001b[0mcv\u001b[0m\u001b[0;34m=\u001b[0m\u001b[0;36m5\u001b[0m\u001b[0;34m,\u001b[0m \u001b[0mscoring\u001b[0m\u001b[0;34m=\u001b[0m\u001b[0;34m'recall_weighted'\u001b[0m\u001b[0;34m,\u001b[0m \u001b[0mverbose\u001b[0m\u001b[0;34m=\u001b[0m\u001b[0;36m0\u001b[0m\u001b[0;34m,\u001b[0m \u001b[0mn_jobs\u001b[0m\u001b[0;34m=\u001b[0m\u001b[0;34m-\u001b[0m\u001b[0;36m1\u001b[0m\u001b[0;34m)\u001b[0m\u001b[0;34m\u001b[0m\u001b[0;34m\u001b[0m\u001b[0m\n\u001b[0m\u001b[1;32m      3\u001b[0m \u001b[0msfs\u001b[0m\u001b[0;34m.\u001b[0m\u001b[0mfit\u001b[0m\u001b[0;34m(\u001b[0m\u001b[0mX_\u001b[0m\u001b[0;34m,\u001b[0m\u001b[0my_\u001b[0m\u001b[0;34m)\u001b[0m\u001b[0;34m\u001b[0m\u001b[0;34m\u001b[0m\u001b[0m\n",
      "\u001b[0;31mNameError\u001b[0m: name 'SFS' is not defined"
     ]
    }
   ],
   "source": [
    "svc = SVC(kernel='rbf', C=10)\n",
    "sfs = SFS(svc, k_features=5, forward=True, cv=5, scoring='recall_weighted', verbose=0, n_jobs=-1)\n",
    "sfs.fit(X_,y_)"
   ]
  },
  {
   "cell_type": "code",
   "execution_count": null,
   "id": "2087e2dd",
   "metadata": {
    "hidden": true
   },
   "outputs": [],
   "source": [
    "sfs.subsets_"
   ]
  },
  {
   "cell_type": "code",
   "execution_count": null,
   "id": "dcd63d9e",
   "metadata": {
    "hidden": true
   },
   "outputs": [],
   "source": [
    "X = df[[' Net Value Per Share (B)',\n",
    "        ' Persistent EPS in the Last Four Seasons',\n",
    "        ' Net profit before tax/Paid-in capital'\n",
    "       ]]\n",
    "y = df['Bankrupt?']\n",
    "X = np.array(X)\n",
    "y = np.array(y)\n",
    "X_train, X_test, y_train, y_test = train_test_split(X,y, test_size=0.2, random_state=1)"
   ]
  },
  {
   "cell_type": "code",
   "execution_count": null,
   "id": "b9faca75",
   "metadata": {
    "hidden": true
   },
   "outputs": [],
   "source": [
    "X_train.shape"
   ]
  },
  {
   "cell_type": "code",
   "execution_count": null,
   "id": "0e79ee88",
   "metadata": {
    "hidden": true
   },
   "outputs": [],
   "source": [
    "y_train.shape"
   ]
  },
  {
   "cell_type": "code",
   "execution_count": null,
   "id": "7eb56295",
   "metadata": {
    "hidden": true
   },
   "outputs": [],
   "source": [
    "svc = SVC(kernel='rbf', C=10)\n",
    "svc.fit(X_train, y_train)\n",
    "pred = svc.predict(X_test)\n",
    "f1 = f1_score(pred, y_test)\n",
    "acc = accuracy_score(pred, y_test)\n",
    "confu = confusion_matrix(y_test, pred)"
   ]
  },
  {
   "cell_type": "code",
   "execution_count": null,
   "id": "6a32a307",
   "metadata": {
    "hidden": true
   },
   "outputs": [],
   "source": [
    "f1"
   ]
  },
  {
   "cell_type": "code",
   "execution_count": null,
   "id": "c844d63e",
   "metadata": {
    "hidden": true
   },
   "outputs": [],
   "source": [
    "acc"
   ]
  },
  {
   "cell_type": "code",
   "execution_count": null,
   "id": "175565a7",
   "metadata": {
    "hidden": true
   },
   "outputs": [],
   "source": [
    "confu"
   ]
  },
  {
   "cell_type": "markdown",
   "id": "9fcc006d",
   "metadata": {
    "heading_collapsed": true,
    "hidden": true
   },
   "source": [
    "## EFS"
   ]
  },
  {
   "cell_type": "code",
   "execution_count": null,
   "id": "06182e7e",
   "metadata": {
    "hidden": true
   },
   "outputs": [],
   "source": [
    "svc = SVC(kernel='rbf', C=10)\n",
    "efs = EFS(svc, cv=5, min_features=2, max_features=5, scoring='r2', n_jobs=-1)\n",
    "efs.fit(X_, y_)\n",
    "efs.subsets_"
   ]
  },
  {
   "cell_type": "markdown",
   "id": "32b627d8",
   "metadata": {
    "heading_collapsed": true
   },
   "source": [
    "# Feature extraction"
   ]
  },
  {
   "cell_type": "markdown",
   "id": "57beb279",
   "metadata": {
    "heading_collapsed": true,
    "hidden": true
   },
   "source": [
    "## PCA"
   ]
  },
  {
   "cell_type": "code",
   "execution_count": 64,
   "id": "d39d8002",
   "metadata": {
    "hidden": true
   },
   "outputs": [],
   "source": [
    "X = np.array(X_)\n",
    "y = np.array(y_)\n",
    "\n",
    "X_train, X_test, y_trian, y_test = train_test_split(X, y, test_size=0.2, random_state=1)\n",
    "\n",
    "sc = StandardScaler()\n",
    "X_train = sc.fit_transform(X_train)\n",
    "X_test = sc.fit_transform(X_test)\n"
   ]
  },
  {
   "cell_type": "code",
   "execution_count": 65,
   "id": "8bc370df",
   "metadata": {
    "hidden": true
   },
   "outputs": [],
   "source": [
    "pca = PCA(n_components=10)\n",
    "X_train_pca = pca.fit_transform(X_train)\n",
    "X_test_pca = pca.transform(X_test)\n"
   ]
  },
  {
   "cell_type": "code",
   "execution_count": 66,
   "id": "960245d7",
   "metadata": {
    "hidden": true
   },
   "outputs": [
    {
     "data": {
      "text/plain": [
       "(5455, 10)"
      ]
     },
     "execution_count": 66,
     "metadata": {},
     "output_type": "execute_result"
    }
   ],
   "source": [
    "X_train_pca.shape"
   ]
  },
  {
   "cell_type": "code",
   "execution_count": 67,
   "id": "5becfc36",
   "metadata": {
    "hidden": true,
    "scrolled": true
   },
   "outputs": [
    {
     "data": {
      "text/plain": [
       "(1364, 10)"
      ]
     },
     "execution_count": 67,
     "metadata": {},
     "output_type": "execute_result"
    }
   ],
   "source": [
    "X_test_pca.shape"
   ]
  },
  {
   "cell_type": "code",
   "execution_count": 68,
   "id": "053a8637",
   "metadata": {
    "hidden": true
   },
   "outputs": [],
   "source": [
    "svc = SVC(kernel='rbf', C=10)\n",
    "svc.fit(X_train_pca, y_train)\n",
    "pred = svc.predict(X_test_pca)\n",
    "f1 = f1_score(pred, y_test)\n",
    "acc = accuracy_score(pred, y_test)\n",
    "confu = confusion_matrix(y_test, pred)"
   ]
  },
  {
   "cell_type": "code",
   "execution_count": 69,
   "id": "e6e436b3",
   "metadata": {
    "hidden": true
   },
   "outputs": [
    {
     "data": {
      "text/plain": [
       "0.0"
      ]
     },
     "execution_count": 69,
     "metadata": {},
     "output_type": "execute_result"
    }
   ],
   "source": [
    "f1"
   ]
  },
  {
   "cell_type": "code",
   "execution_count": 70,
   "id": "df8f35c4",
   "metadata": {
    "hidden": true
   },
   "outputs": [
    {
     "data": {
      "text/plain": [
       "0.9633431085043989"
      ]
     },
     "execution_count": 70,
     "metadata": {},
     "output_type": "execute_result"
    }
   ],
   "source": [
    "acc"
   ]
  },
  {
   "cell_type": "code",
   "execution_count": 71,
   "id": "07ca05a3",
   "metadata": {
    "hidden": true
   },
   "outputs": [
    {
     "data": {
      "text/plain": [
       "array([[1314,    0],\n",
       "       [  50,    0]])"
      ]
     },
     "execution_count": 71,
     "metadata": {},
     "output_type": "execute_result"
    }
   ],
   "source": [
    "confu"
   ]
  },
  {
   "cell_type": "markdown",
   "id": "3b2b60ba",
   "metadata": {
    "heading_collapsed": true,
    "hidden": true
   },
   "source": [
    "## LDA "
   ]
  },
  {
   "cell_type": "code",
   "execution_count": null,
   "id": "c856b6e1",
   "metadata": {
    "hidden": true
   },
   "outputs": [],
   "source": [
    "X = np.array(X_)\n",
    "y = np.array(y_)\n",
    "\n",
    "X_train, X_test, y_trian, y_test = train_test_split(X, y, test_size=0.2, random_state=1)\n",
    "\n",
    "sc = StandardScaler()\n",
    "X_train = sc.fit_transform(X_train)\n",
    "X_test = sc.fit_transform(X_test)"
   ]
  },
  {
   "cell_type": "code",
   "execution_count": null,
   "id": "bc920846",
   "metadata": {
    "hidden": true
   },
   "outputs": [],
   "source": [
    "lda = LDA(n_components=1)\n",
    "X_train_lda = lda.fit_transform(X_train, y_train)\n",
    "X_test_lda = lda.transform(X_test)"
   ]
  },
  {
   "cell_type": "code",
   "execution_count": null,
   "id": "05131768",
   "metadata": {
    "hidden": true
   },
   "outputs": [],
   "source": [
    "X_train_lda.shape"
   ]
  },
  {
   "cell_type": "code",
   "execution_count": null,
   "id": "11d92af3",
   "metadata": {
    "hidden": true
   },
   "outputs": [],
   "source": [
    "svc = SVC(kernel='rbf', C=10)\n",
    "svc.fit(X_train_lda, y_train)\n",
    "pred = svc.predict(X_test_lda)\n",
    "f1 = f1_score(pred, y_test, average=None)\n",
    "acc = accuracy_score(pred, y_test)\n",
    "confu = confusion_matrix(y_test, pred)"
   ]
  },
  {
   "cell_type": "code",
   "execution_count": null,
   "id": "37525025",
   "metadata": {
    "hidden": true
   },
   "outputs": [],
   "source": [
    "f1"
   ]
  },
  {
   "cell_type": "code",
   "execution_count": null,
   "id": "98330216",
   "metadata": {
    "hidden": true
   },
   "outputs": [],
   "source": [
    "acc"
   ]
  },
  {
   "cell_type": "code",
   "execution_count": null,
   "id": "a4d551ce",
   "metadata": {
    "hidden": true
   },
   "outputs": [],
   "source": [
    "confu"
   ]
  },
  {
   "cell_type": "markdown",
   "id": "7041640b",
   "metadata": {},
   "source": [
    "# Models"
   ]
  },
  {
   "cell_type": "markdown",
   "id": "75af6271",
   "metadata": {},
   "source": [
    "## Dicision tree "
   ]
  },
  {
   "cell_type": "code",
   "execution_count": 25,
   "id": "9edde9ff",
   "metadata": {},
   "outputs": [],
   "source": [
    "from sklearn.tree import DecisionTreeClassifier\n",
    "import graphviz\n",
    "from sklearn import tree"
   ]
  },
  {
   "cell_type": "code",
   "execution_count": 139,
   "id": "5bc6d8d2",
   "metadata": {},
   "outputs": [
    {
     "name": "stdout",
     "output_type": "stream",
     "text": [
      "f1:0.48101265822784806,\n",
      "accuracy:0.9699413489736071\n",
      "confusion matrix:\n",
      "[[1304   10]\n",
      " [  31   19]]\n"
     ]
    }
   ],
   "source": [
    "clf = DecisionTreeClassifier(criterion='entropy', max_depth=3, random_state=1)\n",
    "\n",
    "X = np.array(X_)\n",
    "y = np.array(y_)\n",
    "X_train, X_test, y_train, y_test = train_test_split(X, y , test_size=0.2, random_state=1)\n",
    "\n",
    "clf = DecisionTreeClassifier(criterion='gini', splitter='best', max_depth=5, \n",
    "                             random_state=1, min_samples_leaf=13)\n",
    "clf.fit(X_train, y_train)\n",
    "\n",
    "pred = clf.predict(X_test)\n",
    "f1 = f1_score(pred, y_test)\n",
    "acc = accuracy_score(pred, y_test)\n",
    "confu = confusion_matrix(y_test, pred)\n",
    "print(\"f1:{},\\naccuracy:{}\\nconfusion matrix:\\n{}\".format(f1,acc,confu))"
   ]
  },
  {
   "cell_type": "code",
   "execution_count": 140,
   "id": "6468bdaa",
   "metadata": {},
   "outputs": [
    {
     "data": {
      "text/plain": [
       "'Source.gv.gif'"
      ]
     },
     "execution_count": 140,
     "metadata": {},
     "output_type": "execute_result"
    }
   ],
   "source": [
    "feature_names = []\n",
    "for name in X_.columns:\n",
    "    feature_names.append(name)\n",
    "\n",
    "dot_data = tree.export_graphviz(clf, out_file=None, feature_names=feature_names,\n",
    "           filled=True, rounded=True, special_characters=True)  \n",
    "graph = graphviz.Source(dot_data, format='gif')  \n",
    "graph.render(view=True)"
   ]
  },
  {
   "cell_type": "code",
   "execution_count": null,
   "id": "0071e0dd",
   "metadata": {},
   "outputs": [],
   "source": []
  },
  {
   "cell_type": "code",
   "execution_count": null,
   "id": "c772ffb7",
   "metadata": {},
   "outputs": [],
   "source": []
  },
  {
   "cell_type": "code",
   "execution_count": null,
   "id": "e5bb2416",
   "metadata": {},
   "outputs": [],
   "source": []
  },
  {
   "cell_type": "code",
   "execution_count": null,
   "id": "27629374",
   "metadata": {},
   "outputs": [],
   "source": []
  },
  {
   "cell_type": "code",
   "execution_count": null,
   "id": "08ad70d8",
   "metadata": {},
   "outputs": [],
   "source": []
  },
  {
   "cell_type": "code",
   "execution_count": null,
   "id": "c83ba1d4",
   "metadata": {},
   "outputs": [],
   "source": []
  },
  {
   "cell_type": "code",
   "execution_count": null,
   "id": "3ce80acb",
   "metadata": {},
   "outputs": [],
   "source": []
  },
  {
   "cell_type": "markdown",
   "id": "4c3bd1e3",
   "metadata": {
    "heading_collapsed": true
   },
   "source": [
    "## 鄭捷 機器學習概論 ch3 物件導向程式碼"
   ]
  },
  {
   "cell_type": "code",
   "execution_count": null,
   "id": "8cb8ec61",
   "metadata": {
    "hidden": true
   },
   "outputs": [],
   "source": [
    "import math\n",
    "import pickle "
   ]
  },
  {
   "cell_type": "markdown",
   "id": "3c32169f",
   "metadata": {
    "heading_collapsed": true,
    "hidden": true
   },
   "source": [
    "### Build ID3 tree"
   ]
  },
  {
   "cell_type": "code",
   "execution_count": null,
   "id": "147eff3c",
   "metadata": {
    "hidden": true
   },
   "outputs": [],
   "source": [
    "# -*- coding: utf-8 -*-\n",
    "\n",
    "from numpy import *\n",
    "import math\n",
    "import copy\n",
    "import pickle as pickle\n",
    "\n",
    "class ID3DTree(object):\n",
    "\tdef __init__(self):\n",
    "\t\tself.tree={}\n",
    "\t\tself.dataSet=[]\n",
    "\t\tself.labels=[]\n",
    "\t\n",
    "\tdef loadDataSet(self,path,labels):\n",
    "\t\trecordlist = []\n",
    "\t\tfp = open(path,\"rb\") \t# 读取文件内容\n",
    "\t\tcontent = fp.read()\n",
    "\t\tfp.close()\n",
    "\t\trowlist = content.splitlines() \t# 按行转换为一维表\n",
    "\t\trecordlist=[row.split(\"\\t\") for row in rowlist if row.strip()]\t\n",
    "\t\tself.dataSet = recordlist\n",
    "\t\tself.labels = labels\n",
    "\t\t\n",
    "\tdef train(self):\n",
    "\t\tlabels = copy.deepcopy(self.labels)\n",
    "\t\tself.tree = self.buildTree(self.dataSet,labels)\n",
    "\t\t\t\n",
    "\t# 创建决策树主程序\n",
    "\tdef buildTree(self,dataSet,labels):\t  \n",
    "\t\tcateList = [data[-1] for data in dataSet] # 抽取源数据集的决策标签列\n",
    "\t\t# 程序终止条件1\t: 如果classList只有一种决策标签，停止划分，返回这个决策标签\n",
    "\t\tif cateList.count(cateList[0]) == len(cateList): \n",
    "\t\t    return cateList[0]\n",
    "\t\t# 程序终止条件2: 如果数据集的第一个决策标签只有一个 返回这个决策标签    \n",
    "\t\tif len(dataSet[0]) == 1:   \t\n",
    "\t\t    return self.maxCate(cateList)\t\t\n",
    "\t\t# 算法核心：\n",
    "\t\tbestFeat = self.getBestFeat(dataSet) # 返回数据集的最优特征轴：\n",
    "\t\tbestFeatLabel = labels[bestFeat]\n",
    "\t\ttree = {bestFeatLabel:{}}\t\t\t\n",
    "\t\tdel(labels[bestFeat])\n",
    "\t\t# 抽取最优特征轴的列向量\n",
    "\t\tuniqueVals = set([data[bestFeat] for data in dataSet]) # 去重\t\n",
    "\t\tfor value in uniqueVals:\n",
    "\t\t    subLabels = labels[:]  #将删除后的特征类别集建立子类别集\n",
    "\t\t    splitDataset = self.splitDataSet(dataSet, bestFeat, value) # 按最优特征列和值分割数据集\n",
    "\t\t    subTree = self.buildTree(splitDataset,subLabels) # 构建子树\n",
    "\t\t    tree[bestFeatLabel][value] = subTree\n",
    "\t\treturn tree\n",
    "\t\n",
    "\tdef maxCate(self,catelist):\t\t# 计算出现最多的类别标签\n",
    "\t\titems = dict([(catelist.count(i), i) for i in catelist])\n",
    "\t\treturn items[max(items.keys())]\n",
    "\t\t\t \t\n",
    "\tdef getBestFeat(self,dataSet):\n",
    "\t\t# 计算特征向量维，其中最后一列用于类别标签，因此要减去 \t\n",
    "\t\tnumFeatures = len(dataSet[0]) - 1               # 特征向量维数= 行向量维度-1\n",
    "\t\tbaseEntropy = self.computeEntropy(dataSet)      # 基础熵：源数据的香农熵\n",
    "\t\tbestInfoGain = 0.0;                             # 初始化最优的信息增益\n",
    "\t\tbestFeature = -1                                # 初始化最优的特征轴  \t\t\n",
    "\t\t# 外循环：遍历数据集各列,计算最优特征轴\n",
    "\t\t# i 为数据集列索引：取值范围 0~(numFeatures-1)\n",
    "\t\tfor i in range(numFeatures):\t\t# 抽取第i列的列向量 \t\t\t \t\n",
    "\t\t\tuniqueVals = set([data[i] for data in dataSet])\t# 去重：该列的唯一值集\t    \n",
    "\t\t\tnewEntropy = 0.0                 # 初始化该列的香农熵\t\t    \n",
    "\t\t\tfor value in uniqueVals:         # 内循环：按列和唯一值计算香农熵\t\t\t\t\n",
    "\t\t\t\tsubDataSet = self.splitDataSet(dataSet, i, value) # 按选定列i和唯一值分隔数据集\n",
    "\t\t\t\tprob = len(subDataSet)/float(len(dataSet))\n",
    "\t\t\t\tnewEntropy += prob * self.computeEntropy(subDataSet)          \n",
    "\t\t\tinfoGain = baseEntropy - newEntropy   # 计算最大增益\n",
    "\t\t\tif (infoGain > bestInfoGain):         # 如果信息增益>0;    \n",
    "\t\t\t\tbestInfoGain = infoGain             # 用当前信息增益值替代之前的最优增益值 \n",
    "\t\t\t\tbestFeature = i                     # 重置最优特征为当前列\n",
    "\t\treturn bestFeature \n",
    "\t\t\n",
    "\tdef computeEntropy(self,dataSet):                         # 计算香农熵\n",
    "\t\tdatalen = float(len(dataSet))\n",
    "\t\tcateList = [data[-1] for data in dataSet]               # 从数据集中得到类别标签\n",
    "\t\titems = dict([(i,cateList.count(i)) for i in cateList]) # 得到类别为key，出现次数value的字典\n",
    "\t\tinfoEntropy = 0.0                                       # 初始化香农熵    \t\t\t\n",
    "\t\tfor key in items:                                       # 计算香农熵\n",
    "\t\t\tprob = float(items[key])/datalen \n",
    "\t\t\tinfoEntropy -= prob * math.log(prob,2) # 香农熵：= - p*log2(p) --infoEntropy = -prob * log(prob,2)\n",
    "\t\treturn infoEntropy\t \n",
    "\t# 分隔数据集：删除特征轴所在的数据列，返回剩余的数据集\n",
    "\t# dataSet：数据集;\t axis：特征轴;\t value：特征轴的取值\n",
    "\tdef splitDataSet(self, dataSet, axis, value):\t\t\n",
    "\t\trtnList = []     \n",
    "\t\tfor featVec in dataSet:\n",
    "\t\t\tif featVec[axis] == value:\n",
    "\t\t\t\trFeatVec = featVec[:axis] # list操作 提取0~(axis-1)的元素 \n",
    "\t\t\t\trFeatVec.extend(featVec[axis+1:]) # list操作 将特征轴（列）之后的元素加回\n",
    "\t\t\t\trtnList.append(rFeatVec)   \n",
    "\t\treturn rtnList \n",
    "\t\n",
    "\tdef predict(self,inputTree,featLabels,testVec):\t# 分类器 \n",
    "\t\troot = list(inputTree.keys())[0]    # 树根节点\n",
    "\t\tsecondDict = inputTree[root]  # value-子树结构或分类标签\n",
    "\t\tfeatIndex = featLabels.index(root)  # 根节点在分类标签集中的位置\n",
    "\t\tkey = testVec[featIndex] # 测试集数组取值 \n",
    "\t\tvalueOfFeat = secondDict[key] # \n",
    "\t\tif isinstance(valueOfFeat, dict): \n",
    "\t\t    classLabel = self.predict(valueOfFeat, featLabels, testVec) # 递归分类\n",
    "\t\telse: classLabel = valueOfFeat\n",
    "\t\treturn classLabel\n",
    "\t\n",
    "\t# 存储树到文件\n",
    "\tdef storeTree(self,inputTree,filename):\n",
    "\t\tfw = open(filename,'w')\n",
    "\t\tpickle.dump(inputTree,fw)\n",
    "\t\tfw.close()\n",
    "\t\n",
    "\t# 从文件抓取树    \n",
    "\tdef grabTree(self,filename):\n",
    "\t\tfr = open(filename)\n",
    "\t\treturn pickle.load(fr)\t                   \t"
   ]
  },
  {
   "cell_type": "markdown",
   "id": "5ff4f959",
   "metadata": {
    "hidden": true
   },
   "source": [
    "Train tree"
   ]
  },
  {
   "cell_type": "code",
   "execution_count": null,
   "id": "959115e1",
   "metadata": {
    "hidden": true
   },
   "outputs": [],
   "source": [
    "\n",
    "dtree = ID3DTree()\n",
    "dtree.loadDataSet('dataset.dat', ['feature1', 'feature2'])\n",
    "dtree.train()\n",
    "dtree.predict()\n",
    "print(dtree.tree)"
   ]
  },
  {
   "cell_type": "markdown",
   "id": "3a88628c",
   "metadata": {
    "hidden": true
   },
   "source": [
    "持續化決策樹"
   ]
  },
  {
   "cell_type": "code",
   "execution_count": null,
   "id": "110d0594",
   "metadata": {
    "hidden": true
   },
   "outputs": [],
   "source": [
    "dtree.storeTree(dtree.tree, \"data.tree\")\n",
    "mytree = dtree.grabTree('data_tree')"
   ]
  },
  {
   "cell_type": "markdown",
   "id": "a3411116",
   "metadata": {
    "heading_collapsed": true,
    "hidden": true
   },
   "source": [
    "### C4.5 "
   ]
  },
  {
   "cell_type": "code",
   "execution_count": null,
   "id": "822835b9",
   "metadata": {
    "hidden": true
   },
   "outputs": [],
   "source": [
    "# -*- coding: utf-8 -*-\n",
    "\n",
    "from numpy import *\n",
    "import math\n",
    "import copy\n",
    "import pickle as pickle\n",
    "\n",
    "class C45DTree(object):\n",
    "\tdef __init__(self):\n",
    "\t\tself.tree={}\n",
    "\t\tself.dataSet=[]\n",
    "\t\tself.labels=[]\n",
    "\t\n",
    "\tdef loadDataSet(self,path,labels):\n",
    "\t\trecordlist = []\n",
    "\t\tfp = open(path,\"rb\") \t\n",
    "\t\tcontent = fp.read()\n",
    "\t\tfp.close()\n",
    "\t\trowlist = content.splitlines() \t\n",
    "\t\trecordlist=[row.split(\"\\t\") for row in rowlist if row.strip()]\t\n",
    "\t\tself.dataSet = recordlist\n",
    "\t\tself.labels = labels\n",
    "\t\t\n",
    "\tdef train(self):\n",
    "\t\tlabels = copy.deepcopy(self.labels)\n",
    "\t\tself.tree = self.buildTree(self.dataSet,labels)\n",
    "\n",
    "\tdef buildTree(self,dataSet,labels):\t  \n",
    "\t\tcateList = [data[-1] for data in dataSet]\n",
    "\t\tif cateList.count(cateList[0]) == len(cateList): \n",
    "\t\t    return cateList[0]\n",
    "\t\tif len(dataSet[0]) == 1:   \t\n",
    "\t\t    return self.maxCate(cateList)\t\t\n",
    "\t\tbestFeat, featValueList = self.getBestFeat(dataSet)\n",
    "\t\tbestFeatLabel = labels[bestFeat]\n",
    "\t\ttree = {bestFeatLabel:{}}\t\t\t\n",
    "\t\tdel(labels[bestFeat])\t\t\n",
    "\t\tfor value in featValueList:\n",
    "\t\t    subLabels = labels[:] \n",
    "\t\t    splitDataset = self.splitDataSet(dataSet, bestFeat, value) \n",
    "\t\t    subTree = self.buildTree(splitDataset,subLabels) \n",
    "\t\t    tree[bestFeatLabel][value] = subTree\n",
    "\t\treturn tree\n",
    "\t\n",
    "\tdef maxCate(self,catelist):\t\n",
    "\t\titems = dict([(catelist.count(i), i) for i in catelist])\n",
    "\t\treturn items[max(items.keys())]\n",
    "\t\t\n",
    "\tdef getBestFeat(self, dataSet):\n",
    "\t\tNum_Feats = len(dataSet[0][:-1])\n",
    "\t\ttotality = len(dataSet)\n",
    "\t\tBaseEntropy = self.computeEntropy(dataSet)\n",
    "\t\tConditionEntropy = [] # 初始化条件熵\n",
    "\t\tslpitInfo = []  # for C4.5, calculate gain ratio\n",
    "\t\tallFeatVList=[]\n",
    "\t\tfor f in range(Num_Feats):\n",
    "\t\t\tfeatList = [example[f] for example in dataSet]\n",
    "\t\t\t[splitI,featureValueList] = self.computeSplitInfo(featList)\n",
    "\t\t\tallFeatVList.append(featureValueList)         \n",
    "\t\t\tslpitInfo.append(splitI)\t\t    \n",
    "\t\t\tresultGain = 0.0\t\t    \n",
    "\t\t\tfor value in featureValueList:\n",
    "\t\t\t\tsubSet = self.splitDataSet(dataSet, f, value)\n",
    "\t\t\t\tappearNum = float(len(subSet))\n",
    "\t\t\t\tsubEntropy = self.computeEntropy(subSet)\n",
    "\t\t\t\tresultGain += (appearNum/totality)*subEntropy\n",
    "\t\t\tConditionEntropy.append(resultGain) # 总条件熵\n",
    "\t\tinfoGainArray = BaseEntropy*ones(Num_Feats)-array(ConditionEntropy)\n",
    "\t\tinfoGainRatio = infoGainArray/array(slpitInfo) # c4.5, info gain ratio\n",
    "\t\tbestFeatureIndex =  argsort(-infoGainRatio)[0]\n",
    "\t\treturn bestFeatureIndex, allFeatVList[bestFeatureIndex]\t\t\n",
    "\t\t\n",
    "\tdef computeSplitInfo(self, featureVList):\n",
    "\t\tnumEntries = len(featureVList)\n",
    "\t\tfeatureVauleSetList = list(set(featureVList))\n",
    "\t\tvalueCounts = [featureVList.count(featVec) for featVec in featureVauleSetList]\n",
    "\t\t# caclulate shannonEnt\n",
    "\t\tpList = [float(item)/numEntries for item in valueCounts ]\n",
    "\t\tlList = [item*math.log(item,2) for item in pList]\n",
    "\t\tsplitInfo = -sum(lList)\n",
    "\t\treturn splitInfo, featureVauleSetList\t\t\n",
    "\n",
    "\tdef computeEntropy(self,dataSet):  \n",
    "\t\tdatalen = float(len(dataSet))\n",
    "\t\tcateList = [data[-1] for data in dataSet] \n",
    "\t\titems = dict([(i,cateList.count(i)) for i in cateList]) \n",
    "\t\tinfoEntropy = 0.0 \n",
    "\t\tfor key in items: \n",
    "\t\t\tprob = float(items[key])/datalen \n",
    "\t\t\tinfoEntropy -= prob * math.log(prob,2) \n",
    "\t\treturn infoEntropy\t \n",
    "\n",
    "\tdef splitDataSet(self, dataSet, axis, value):\t\t\n",
    "\t\trtnList = []     \n",
    "\t\tfor featVec in dataSet:\n",
    "\t\t\tif featVec[axis] == value:\n",
    "\t\t\t\trFeatVec = featVec[:axis] \n",
    "\t\t\t\trFeatVec.extend(featVec[axis+1:]) \n",
    "\t\t\t\trtnList.append(rFeatVec)   \n",
    "\t\treturn rtnList \n",
    "\t\n",
    "\t# 树的后剪枝\n",
    "# testData: 测试集    \n",
    "def prune(tree, testData):\n",
    "\tpass\n",
    "\t\n",
    "\n",
    "\tdef predict(self,inputTree,featLabels,testVec):\t\n",
    "\t\troot = list(inputTree.keys())[0]    \n",
    "\t\tsecondDict = inputTree[root] \n",
    "\t\tfeatIndex = featLabels.index(root) \n",
    "\t\tkey = testVec[featIndex] \n",
    "\t\tvalueOfFeat = secondDict[key] # \n",
    "\t\tif isinstance(valueOfFeat, dict): \n",
    "\t\t    classLabel = self.predict(valueOfFeat, featLabels, testVec)\n",
    "\t\telse: classLabel = valueOfFeat\n",
    "\t\treturn classLabel\n",
    "\n",
    "\tdef storeTree(self,inputTree,filename):\n",
    "\t\tfw = open(filename,'w')\n",
    "\t\tpickle.dump(inputTree,fw)\n",
    "\t\tfw.close()\n",
    " \n",
    "\tdef grabTree(self,filename):\n",
    "\t\tfr = open(filename)\n",
    "\t\treturn pickle.load(fr)\t                   \t"
   ]
  },
  {
   "cell_type": "code",
   "execution_count": null,
   "id": "90de6d33",
   "metadata": {
    "hidden": true
   },
   "outputs": [],
   "source": [
    "dtree = C45Dtree()\n",
    "dtree.loadDataSet(\"dataset.dat\", ['feature1', 'feature2'])\n",
    "dtree.train\n",
    "dtree.predict()"
   ]
  },
  {
   "cell_type": "markdown",
   "id": "b957f7ee",
   "metadata": {
    "hidden": true
   },
   "source": [
    "後剪枝"
   ]
  },
  {
   "cell_type": "code",
   "execution_count": null,
   "id": "b64992d0",
   "metadata": {
    "hidden": true
   },
   "outputs": [],
   "source": [
    "def prune(tree, testData):\n",
    "\tpass\n",
    "\t\n",
    "\n",
    "\tdef predict(self,inputTree,featLabels,testVec):\t\n",
    "\t\troot = list(inputTree.keys())[0]    \n",
    "\t\tsecondDict = inputTree[root] \n",
    "\t\tfeatIndex = featLabels.index(root) \n",
    "\t\tkey = testVec[featIndex] \n",
    "\t\tvalueOfFeat = secondDict[key] # \n",
    "\t\tif isinstance(valueOfFeat, dict): \n",
    "\t\t    classLabel = self.predict(valueOfFeat, featLabels, testVec)\n",
    "\t\telse: classLabel = valueOfFeat\n",
    "\t\treturn classLabel\n",
    "\n",
    "\tdef storeTree(self,inputTree,filename):\n",
    "\t\tfw = open(filename,'w')\n",
    "\t\tpickle.dump(inputTree,fw)\n",
    "\t\tfw.close()\n",
    " \n",
    "\tdef grabTree(self,filename):\n",
    "\t\tfr = open(filename)\n",
    "\t\treturn pickle.load(fr)\t "
   ]
  },
  {
   "cell_type": "code",
   "execution_count": null,
   "id": "03cbfcee",
   "metadata": {
    "hidden": true
   },
   "outputs": [],
   "source": []
  },
  {
   "cell_type": "code",
   "execution_count": null,
   "id": "f74006df",
   "metadata": {
    "hidden": true
   },
   "outputs": [],
   "source": []
  },
  {
   "cell_type": "code",
   "execution_count": null,
   "id": "d58f5a6c",
   "metadata": {
    "hidden": true
   },
   "outputs": [],
   "source": []
  },
  {
   "cell_type": "code",
   "execution_count": null,
   "id": "6a1caa1d",
   "metadata": {
    "hidden": true
   },
   "outputs": [],
   "source": []
  },
  {
   "cell_type": "code",
   "execution_count": null,
   "id": "67b90847",
   "metadata": {
    "hidden": true
   },
   "outputs": [],
   "source": []
  },
  {
   "cell_type": "code",
   "execution_count": null,
   "id": "f9e730c1",
   "metadata": {
    "hidden": true
   },
   "outputs": [],
   "source": []
  },
  {
   "cell_type": "code",
   "execution_count": null,
   "id": "5d0ce707",
   "metadata": {
    "hidden": true
   },
   "outputs": [],
   "source": []
  },
  {
   "cell_type": "code",
   "execution_count": null,
   "id": "66398921",
   "metadata": {
    "hidden": true
   },
   "outputs": [],
   "source": []
  },
  {
   "cell_type": "code",
   "execution_count": null,
   "id": "48be0cbc",
   "metadata": {
    "hidden": true
   },
   "outputs": [],
   "source": []
  },
  {
   "cell_type": "markdown",
   "id": "85e5aacb",
   "metadata": {},
   "source": [
    "# Model evaluation"
   ]
  },
  {
   "cell_type": "markdown",
   "id": "38f67db4",
   "metadata": {},
   "source": [
    "sklearn-pipline"
   ]
  },
  {
   "cell_type": "code",
   "execution_count": null,
   "id": "cd0930d0",
   "metadata": {},
   "outputs": [],
   "source": [
    "pipe_lr = Pipeline([('sc', StandardScaler()), ('pca', PCA(n_components=3)), ('clf', LogisticRegression(penalty='l2',random_state=1))])\n",
    "pipe_lr.fit(X_train, y_train)"
   ]
  },
  {
   "cell_type": "code",
   "execution_count": null,
   "id": "be311222",
   "metadata": {},
   "outputs": [],
   "source": [
    "pipe_lr.score(X_test, y_test)"
   ]
  },
  {
   "cell_type": "code",
   "execution_count": null,
   "id": "8301fe8b",
   "metadata": {},
   "outputs": [],
   "source": [
    "kfold = cross_validate(n_splits=10)\n",
    "scores = []\n",
    "\n",
    "for k, (train, test) in enumerate(kfold):\n",
    "    print(k)"
   ]
  },
  {
   "cell_type": "code",
   "execution_count": null,
   "id": "53b2d6a6",
   "metadata": {},
   "outputs": [],
   "source": [
    "scores = cross_val_score(estimator=pipe_lr, X=X_train, y=y_train, cv=10, n_jobs=1)"
   ]
  },
  {
   "cell_type": "code",
   "execution_count": null,
   "id": "63453c3f",
   "metadata": {},
   "outputs": [],
   "source": [
    "scores"
   ]
  },
  {
   "cell_type": "markdown",
   "id": "bec357b5",
   "metadata": {
    "heading_collapsed": true
   },
   "source": [
    "## Learning curve "
   ]
  },
  {
   "cell_type": "code",
   "execution_count": null,
   "id": "f1df2d17",
   "metadata": {
    "hidden": true
   },
   "outputs": [],
   "source": [
    "train_size, train_scores, test_scores = learning_curve(estimator=pipe_lr,\n",
    "                                                           X=X_train,\n",
    "                                                           y=y_train, \n",
    "                                                            cv=10, n_jobs=1)"
   ]
  },
  {
   "cell_type": "code",
   "execution_count": null,
   "id": "d726bad0",
   "metadata": {
    "hidden": true
   },
   "outputs": [],
   "source": [
    "train_size"
   ]
  },
  {
   "cell_type": "code",
   "execution_count": null,
   "id": "7b4ff537",
   "metadata": {
    "hidden": true
   },
   "outputs": [],
   "source": [
    "train_scores"
   ]
  },
  {
   "cell_type": "code",
   "execution_count": null,
   "id": "43c9069c",
   "metadata": {
    "hidden": true
   },
   "outputs": [],
   "source": [
    "test_scores"
   ]
  },
  {
   "cell_type": "code",
   "execution_count": null,
   "id": "0e867421",
   "metadata": {
    "hidden": true
   },
   "outputs": [],
   "source": [
    "train_mean = np.mean(train_scores, axis=1)\n",
    "test_mean = np.mean(test_scores, axis=1)\n",
    "test_std = np.std(test_scores, axis=1)\n",
    "\n",
    "plt.plot(train_size, train_mean,\n",
    "        color='blue', marker='o',\n",
    "        label='traning accuracy')\n",
    "plt.plot(train_size, test_mean,\n",
    "        color='green',marker='s',\n",
    "        label='validation accuracy')\n",
    "plt.grid()\n",
    "plt.xlabel('Number of training samples')\n",
    "plt.ylabel('Accuracy')\n",
    "plt.legend()\n",
    "plt.ylim([0.96,0.98])\n",
    "plt.show()"
   ]
  },
  {
   "cell_type": "markdown",
   "id": "1ff0478f",
   "metadata": {
    "heading_collapsed": true
   },
   "source": [
    "## Validation curve "
   ]
  },
  {
   "cell_type": "code",
   "execution_count": null,
   "id": "977c4a8b",
   "metadata": {
    "hidden": true
   },
   "outputs": [],
   "source": [
    "param_range = [0.001, 0.01, 0.1, 1.0, 10.0, 100.0]\n",
    "train_scores, test_scores = validation_curve(estimator=pipe_lr,X=X_train, y=y_train,\n",
    "                                             param_name='clf__C',\n",
    "                                            param_range=param_range,\n",
    "                                            cv=10)\n"
   ]
  },
  {
   "cell_type": "code",
   "execution_count": null,
   "id": "4be5af11",
   "metadata": {
    "hidden": true
   },
   "outputs": [],
   "source": [
    "train_mean = np.mean(train_scores, axis=1)\n",
    "test_mean = np.mean(test_scores, axis=1)\n",
    "test_std = np.std(test_scores, axis=1)\n",
    "\n",
    "plt.plot(param_range, train_mean,\n",
    "        color='blue', marker='o',\n",
    "        label='traning accuracy')\n",
    "plt.plot(param_range, test_mean,\n",
    "        color='green',marker='s',\n",
    "        label='validation accuracy')\n",
    "plt.grid()\n",
    "plt.xlabel('Parameter C')\n",
    "plt.ylabel('Accuracy')\n",
    "plt.legend()\n",
    "plt.show()"
   ]
  },
  {
   "cell_type": "markdown",
   "id": "07e2b9ff",
   "metadata": {},
   "source": [
    "## GridSearchCV "
   ]
  },
  {
   "cell_type": "code",
   "execution_count": null,
   "id": "86f38d5f",
   "metadata": {},
   "outputs": [],
   "source": [
    "from sklearn.model_selection import GridSearchCV"
   ]
  },
  {
   "cell_type": "code",
   "execution_count": null,
   "id": "8da0958f",
   "metadata": {},
   "outputs": [],
   "source": [
    "pipe_svc = Pipeline([('sc', StandardScaler()), ('clf', SVC(random_state=1))])\n",
    "param_range = [0.001, 0.01, 0.1, 1.0, 10.0, 100.0]\n",
    "\n",
    "param_grid = [{\n",
    "    'clf__C':param_range,\n",
    "    'clf__kernel':['linear']\n",
    "},{\n",
    "    'clf__C':param_range,\n",
    "    'clf__gamma':param_range,\n",
    "    'clf__kernel':['rbf']\n",
    "}]\n",
    "\n",
    "gs = GridSearchCV(estimator=pipe_svc,\n",
    "                 param_grid=param_grid,\n",
    "                 scoring='f1',\n",
    "                 cv=10)\n",
    "\n",
    "gs =gs.fit(X_train, y_train)"
   ]
  },
  {
   "cell_type": "code",
   "execution_count": null,
   "id": "fc3320f6",
   "metadata": {},
   "outputs": [],
   "source": [
    "clf = gs.best_estimator_\n",
    "clf.fit(X_train, y_train)\n",
    "print('f1-score : {}'.format(clf.score(X_train_test, y_train_test)))"
   ]
  }
 ],
 "metadata": {
  "kernelspec": {
   "display_name": "Python 3 (ipykernel)",
   "language": "python",
   "name": "python3"
  },
  "language_info": {
   "codemirror_mode": {
    "name": "ipython",
    "version": 3
   },
   "file_extension": ".py",
   "mimetype": "text/x-python",
   "name": "python",
   "nbconvert_exporter": "python",
   "pygments_lexer": "ipython3",
   "version": "3.9.13"
  },
  "toc": {
   "base_numbering": 1,
   "nav_menu": {},
   "number_sections": true,
   "sideBar": true,
   "skip_h1_title": false,
   "title_cell": "Table of Contents",
   "title_sidebar": "Contents",
   "toc_cell": false,
   "toc_position": {},
   "toc_section_display": true,
   "toc_window_display": false
  },
  "varInspector": {
   "cols": {
    "lenName": 16,
    "lenType": 16,
    "lenVar": 40
   },
   "kernels_config": {
    "python": {
     "delete_cmd_postfix": "",
     "delete_cmd_prefix": "del ",
     "library": "var_list.py",
     "varRefreshCmd": "print(var_dic_list())"
    },
    "r": {
     "delete_cmd_postfix": ") ",
     "delete_cmd_prefix": "rm(",
     "library": "var_list.r",
     "varRefreshCmd": "cat(var_dic_list()) "
    }
   },
   "types_to_exclude": [
    "module",
    "function",
    "builtin_function_or_method",
    "instance",
    "_Feature"
   ],
   "window_display": false
  }
 },
 "nbformat": 4,
 "nbformat_minor": 5
}
